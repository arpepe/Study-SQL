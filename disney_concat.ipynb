{
    "metadata": {
        "kernelspec": {
            "name": "SQL",
            "display_name": "SQL",
            "language": "sql"
        },
        "language_info": {
            "name": "sql",
            "version": ""
        }
    },
    "nbformat_minor": 2,
    "nbformat": 4,
    "cells": [
        {
            "cell_type": "markdown",
            "source": "# CHARINDEX(), SUBSTRING()",
            "metadata": {}
        },
        {
            "cell_type": "code",
            "source": "select top 5 * from movie_gross",
            "metadata": {},
            "outputs": [
                {
                    "output_type": "display_data",
                    "data": {
                        "text/html": "(5 rows affected)"
                    },
                    "metadata": {}
                },
                {
                    "output_type": "display_data",
                    "data": {
                        "text/html": "Total execution time: 00:00:00.007"
                    },
                    "metadata": {}
                },
                {
                    "output_type": "execute_result",
                    "execution_count": 2,
                    "data": {
                        "application/vnd.dataresource+json": {
                            "schema": {
                                "fields": [
                                    {
                                        "name": "movie_title"
                                    },
                                    {
                                        "name": "release_date"
                                    },
                                    {
                                        "name": "genre"
                                    },
                                    {
                                        "name": "mpaa_rating"
                                    },
                                    {
                                        "name": "total_gross"
                                    },
                                    {
                                        "name": "inflation_adjusted_gross"
                                    }
                                ]
                            },
                            "data": [
                                {
                                    "0": "Snow White and the Seven Dwarfs",
                                    "1": "1937-12-21",
                                    "2": "Musical",
                                    "3": "G",
                                    "4": "184925485",
                                    "5": "5228953251"
                                },
                                {
                                    "0": "Pinocchio",
                                    "1": "1940-02-09",
                                    "2": "Adventure",
                                    "3": "G",
                                    "4": "84300000",
                                    "5": "2188229052"
                                },
                                {
                                    "0": "Fantasia",
                                    "1": "1940-11-13",
                                    "2": "Musical",
                                    "3": "G",
                                    "4": "83320000",
                                    "5": "2187090808"
                                },
                                {
                                    "0": "Song of the South",
                                    "1": "1946-11-12",
                                    "2": "Adventure",
                                    "3": "G",
                                    "4": "65000000",
                                    "5": "1078510579"
                                },
                                {
                                    "0": "Cinderella",
                                    "1": "1950-02-15",
                                    "2": "Drama",
                                    "3": "G",
                                    "4": "85000000",
                                    "5": "920608730"
                                }
                            ]
                        },
                        "text/html": "<table><tr><th>movie_title</th><th>release_date</th><th>genre</th><th>mpaa_rating</th><th>total_gross</th><th>inflation_adjusted_gross</th></tr><tr><td>Snow White and the Seven Dwarfs</td><td>1937-12-21</td><td>Musical</td><td>G</td><td>184925485</td><td>5228953251</td></tr><tr><td>Pinocchio</td><td>1940-02-09</td><td>Adventure</td><td>G</td><td>84300000</td><td>2188229052</td></tr><tr><td>Fantasia</td><td>1940-11-13</td><td>Musical</td><td>G</td><td>83320000</td><td>2187090808</td></tr><tr><td>Song of the South</td><td>1946-11-12</td><td>Adventure</td><td>G</td><td>65000000</td><td>1078510579</td></tr><tr><td>Cinderella</td><td>1950-02-15</td><td>Drama</td><td>G</td><td>85000000</td><td>920608730</td></tr></table>"
                    },
                    "metadata": {}
                }
            ],
            "execution_count": 2
        },
        {
            "cell_type": "code",
            "source": [
                "select top 5 movie_title + ' (' + genre + ')'\n",
                "    from movie_gross"
            ],
            "metadata": {},
            "outputs": [
                {
                    "output_type": "display_data",
                    "data": {
                        "text/html": "(5 rows affected)"
                    },
                    "metadata": {}
                },
                {
                    "output_type": "display_data",
                    "data": {
                        "text/html": "Total execution time: 00:00:00.002"
                    },
                    "metadata": {}
                },
                {
                    "output_type": "execute_result",
                    "execution_count": 16,
                    "data": {
                        "application/vnd.dataresource+json": {
                            "schema": {
                                "fields": [
                                    {
                                        "name": "(No column name)"
                                    }
                                ]
                            },
                            "data": [
                                {
                                    "0": "Snow White and the Seven Dwarfs (Musical)"
                                },
                                {
                                    "0": "Pinocchio (Adventure)"
                                },
                                {
                                    "0": "Fantasia (Musical)"
                                },
                                {
                                    "0": "Song of the South (Adventure)"
                                },
                                {
                                    "0": "Cinderella (Drama)"
                                }
                            ]
                        },
                        "text/html": "<table><tr><th>(No column name)</th></tr><tr><td>Snow White and the Seven Dwarfs (Musical)</td></tr><tr><td>Pinocchio (Adventure)</td></tr><tr><td>Fantasia (Musical)</td></tr><tr><td>Song of the South (Adventure)</td></tr><tr><td>Cinderella (Drama)</td></tr></table>"
                    },
                    "metadata": {}
                }
            ],
            "execution_count": 16
        },
        {
            "cell_type": "code",
            "source": [
                "select top 5 movie_title + '(' + year(release_date) + ')'\n",
                "    from movie_gross"
            ],
            "metadata": {},
            "outputs": [
                {
                    "output_type": "error",
                    "ename": "",
                    "evalue": "Msg 245, Level 16, State 1, Line 1\nConversion failed when converting the varchar value ')' to data type int.",
                    "traceback": []
                },
                {
                    "output_type": "execute_result",
                    "execution_count": 2,
                    "data": {
                        "application/vnd.dataresource+json": {
                            "schema": {
                                "fields": [
                                    {
                                        "name": "(No column name)"
                                    }
                                ]
                            },
                            "data": []
                        },
                        "text/html": "<table><tr><th>(No column name)</th></tr></table>"
                    },
                    "metadata": {}
                },
                {
                    "output_type": "display_data",
                    "data": {
                        "text/html": "Total execution time: 00:00:00.022"
                    },
                    "metadata": {}
                }
            ],
            "execution_count": 2
        },
        {
            "cell_type": "code",
            "source": [
                "select top 5 \n",
                "    movie_title, release_date,\n",
                "    datediff(year, release_date, getdate()),\n",
                "    concat(movie_title, ' (', datediff(year, release_date, getdate()), ' year olds')\n",
                "    from movie_gross"
            ],
            "metadata": {},
            "outputs": [
                {
                    "output_type": "display_data",
                    "data": {
                        "text/html": "(5 rows affected)"
                    },
                    "metadata": {}
                },
                {
                    "output_type": "display_data",
                    "data": {
                        "text/html": "Total execution time: 00:00:00.008"
                    },
                    "metadata": {}
                },
                {
                    "output_type": "execute_result",
                    "execution_count": 14,
                    "data": {
                        "application/vnd.dataresource+json": {
                            "schema": {
                                "fields": [
                                    {
                                        "name": "movie_title"
                                    },
                                    {
                                        "name": "release_date"
                                    },
                                    {
                                        "name": "(No column name)"
                                    },
                                    {
                                        "name": "(No column name)"
                                    }
                                ]
                            },
                            "data": [
                                {
                                    "0": "Snow White and the Seven Dwarfs",
                                    "1": "1937-12-21",
                                    "2": "82",
                                    "3": "Snow White and the Seven Dwarfs (82 year olds"
                                },
                                {
                                    "0": "Pinocchio",
                                    "1": "1940-02-09",
                                    "2": "79",
                                    "3": "Pinocchio (79 year olds"
                                },
                                {
                                    "0": "Fantasia",
                                    "1": "1940-11-13",
                                    "2": "79",
                                    "3": "Fantasia (79 year olds"
                                },
                                {
                                    "0": "Song of the South",
                                    "1": "1946-11-12",
                                    "2": "73",
                                    "3": "Song of the South (73 year olds"
                                },
                                {
                                    "0": "Cinderella",
                                    "1": "1950-02-15",
                                    "2": "69",
                                    "3": "Cinderella (69 year olds"
                                }
                            ]
                        },
                        "text/html": "<table><tr><th>movie_title</th><th>release_date</th><th>(No column name)</th><th>(No column name)</th></tr><tr><td>Snow White and the Seven Dwarfs</td><td>1937-12-21</td><td>82</td><td>Snow White and the Seven Dwarfs (82 year olds</td></tr><tr><td>Pinocchio</td><td>1940-02-09</td><td>79</td><td>Pinocchio (79 year olds</td></tr><tr><td>Fantasia</td><td>1940-11-13</td><td>79</td><td>Fantasia (79 year olds</td></tr><tr><td>Song of the South</td><td>1946-11-12</td><td>73</td><td>Song of the South (73 year olds</td></tr><tr><td>Cinderella</td><td>1950-02-15</td><td>69</td><td>Cinderella (69 year olds</td></tr></table>"
                    },
                    "metadata": {}
                }
            ],
            "execution_count": 14
        },
        {
            "cell_type": "code",
            "source": [
                "select top 5 concat(movie_title, '(', year(release_date), ')')\n",
                "    from movie_gross"
            ],
            "metadata": {},
            "outputs": [
                {
                    "output_type": "display_data",
                    "data": {
                        "text/html": "(5 rows affected)"
                    },
                    "metadata": {}
                },
                {
                    "output_type": "display_data",
                    "data": {
                        "text/html": "Total execution time: 00:00:00.227"
                    },
                    "metadata": {}
                },
                {
                    "output_type": "execute_result",
                    "execution_count": 1,
                    "data": {
                        "application/vnd.dataresource+json": {
                            "schema": {
                                "fields": [
                                    {
                                        "name": "(No column name)"
                                    }
                                ]
                            },
                            "data": [
                                {
                                    "0": "Snow White and the Seven Dwarfs(1937)"
                                },
                                {
                                    "0": "Pinocchio(1940)"
                                },
                                {
                                    "0": "Fantasia(1940)"
                                },
                                {
                                    "0": "Song of the South(1946)"
                                },
                                {
                                    "0": "Cinderella(1950)"
                                }
                            ]
                        },
                        "text/html": "<table><tr><th>(No column name)</th></tr><tr><td>Snow White and the Seven Dwarfs(1937)</td></tr><tr><td>Pinocchio(1940)</td></tr><tr><td>Fantasia(1940)</td></tr><tr><td>Song of the South(1946)</td></tr><tr><td>Cinderella(1950)</td></tr></table>"
                    },
                    "metadata": {}
                }
            ],
            "execution_count": 1
        },
        {
            "cell_type": "markdown",
            "source": "## CHARINDEX()",
            "metadata": {}
        },
        {
            "cell_type": "code",
            "source": "select top 5 * from director",
            "metadata": {},
            "outputs": [
                {
                    "output_type": "display_data",
                    "data": {
                        "text/html": "(5 rows affected)"
                    },
                    "metadata": {}
                },
                {
                    "output_type": "display_data",
                    "data": {
                        "text/html": "Total execution time: 00:00:00.006"
                    },
                    "metadata": {}
                },
                {
                    "output_type": "execute_result",
                    "execution_count": 4,
                    "data": {
                        "application/vnd.dataresource+json": {
                            "schema": {
                                "fields": [
                                    {
                                        "name": "movie_title"
                                    },
                                    {
                                        "name": "director"
                                    }
                                ]
                            },
                            "data": [
                                {
                                    "0": "Snow White and the Seven Dwarfs",
                                    "1": "David Hand"
                                },
                                {
                                    "0": "Pinocchio",
                                    "1": "Ben Sharpsteen"
                                },
                                {
                                    "0": "Fantasia",
                                    "1": "full credits"
                                },
                                {
                                    "0": "Dumbo",
                                    "1": "Ben Sharpsteen"
                                },
                                {
                                    "0": "Bambi",
                                    "1": "David Hand"
                                }
                            ]
                        },
                        "text/html": "<table><tr><th>movie_title</th><th>director</th></tr><tr><td>Snow White and the Seven Dwarfs</td><td>David Hand</td></tr><tr><td>Pinocchio</td><td>Ben Sharpsteen</td></tr><tr><td>Fantasia</td><td>full credits</td></tr><tr><td>Dumbo</td><td>Ben Sharpsteen</td></tr><tr><td>Bambi</td><td>David Hand</td></tr></table>"
                    },
                    "metadata": {}
                }
            ],
            "execution_count": 4
        },
        {
            "cell_type": "code",
            "source": [
                "select top 10 director,\n",
                "    charindex(' ', director) sep,\n",
                "    substring(director, 1, charindex(' ', director) - 1) [first name],\n",
                "    substring(director, charindex(' ', director) + 1, 100) [last name]\n",
                "    from director"
            ],
            "metadata": {},
            "outputs": [
                {
                    "output_type": "display_data",
                    "data": {
                        "text/html": "(10 rows affected)"
                    },
                    "metadata": {}
                },
                {
                    "output_type": "display_data",
                    "data": {
                        "text/html": "Total execution time: 00:00:00.008"
                    },
                    "metadata": {}
                },
                {
                    "output_type": "execute_result",
                    "execution_count": 19,
                    "data": {
                        "application/vnd.dataresource+json": {
                            "schema": {
                                "fields": [
                                    {
                                        "name": "director"
                                    },
                                    {
                                        "name": "sep"
                                    },
                                    {
                                        "name": "first name"
                                    },
                                    {
                                        "name": "last name"
                                    }
                                ]
                            },
                            "data": [
                                {
                                    "0": "David Hand",
                                    "1": "6",
                                    "2": "David",
                                    "3": "Hand"
                                },
                                {
                                    "0": "Ben Sharpsteen",
                                    "1": "4",
                                    "2": "Ben",
                                    "3": "Sharpsteen"
                                },
                                {
                                    "0": "full credits",
                                    "1": "5",
                                    "2": "full",
                                    "3": "credits"
                                },
                                {
                                    "0": "Ben Sharpsteen",
                                    "1": "4",
                                    "2": "Ben",
                                    "3": "Sharpsteen"
                                },
                                {
                                    "0": "David Hand",
                                    "1": "6",
                                    "2": "David",
                                    "3": "Hand"
                                },
                                {
                                    "0": "Jack Kinney",
                                    "1": "5",
                                    "2": "Jack",
                                    "3": "Kinney"
                                },
                                {
                                    "0": "Norman Ferguson",
                                    "1": "7",
                                    "2": "Norman",
                                    "3": "Ferguson"
                                },
                                {
                                    "0": "Jack Kinney",
                                    "1": "5",
                                    "2": "Jack",
                                    "3": "Kinney"
                                },
                                {
                                    "0": "Jack Kinney",
                                    "1": "5",
                                    "2": "Jack",
                                    "3": "Kinney"
                                },
                                {
                                    "0": "Clyde Geronimi",
                                    "1": "6",
                                    "2": "Clyde",
                                    "3": "Geronimi"
                                }
                            ]
                        },
                        "text/html": "<table><tr><th>director</th><th>sep</th><th>first name</th><th>last name</th></tr><tr><td>David Hand</td><td>6</td><td>David</td><td>Hand</td></tr><tr><td>Ben Sharpsteen</td><td>4</td><td>Ben</td><td>Sharpsteen</td></tr><tr><td>full credits</td><td>5</td><td>full</td><td>credits</td></tr><tr><td>Ben Sharpsteen</td><td>4</td><td>Ben</td><td>Sharpsteen</td></tr><tr><td>David Hand</td><td>6</td><td>David</td><td>Hand</td></tr><tr><td>Jack Kinney</td><td>5</td><td>Jack</td><td>Kinney</td></tr><tr><td>Norman Ferguson</td><td>7</td><td>Norman</td><td>Ferguson</td></tr><tr><td>Jack Kinney</td><td>5</td><td>Jack</td><td>Kinney</td></tr><tr><td>Jack Kinney</td><td>5</td><td>Jack</td><td>Kinney</td></tr><tr><td>Clyde Geronimi</td><td>6</td><td>Clyde</td><td>Geronimi</td></tr></table>"
                    },
                    "metadata": {}
                }
            ],
            "execution_count": 19
        }
    ]
}