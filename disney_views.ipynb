{
    "metadata": {
        "kernelspec": {
            "name": "SQL",
            "display_name": "SQL",
            "language": "sql"
        },
        "language_info": {
            "name": "sql",
            "version": ""
        }
    },
    "nbformat_minor": 2,
    "nbformat": 4,
    "cells": [
        {
            "cell_type": "code",
            "source": "CREATE VIEW [dbo].[vw_general_audience]\r\nAS\r\n    SELECT movie_title, release_date, genre, mpaa_rating, inflation_adjusted_gross\r\n        FROM dbo.movie_gross\r\n        WHERE mpaa_rating = 'G' AND genre = 'Adventure'",
            "metadata": {},
            "outputs": [
                {
                    "output_type": "display_data",
                    "data": {
                        "text/html": "Commands completed successfully."
                    },
                    "metadata": {}
                },
                {
                    "output_type": "display_data",
                    "data": {
                        "text/html": "Total execution time: 00:00:00.050"
                    },
                    "metadata": {}
                }
            ],
            "execution_count": 11
        },
        {
            "cell_type": "code",
            "source": "\r\nCREATE VIEW [dbo].[vw_movie_director]\r\nAS\r\n    SELECT m.movie_title, m.release_date, m.genre, m.mpaa_rating, m.total_gross, m.inflation_adjusted_gross, d.director\r\n        FROM dbo.movie_gross AS m INNER JOIN\r\n        dbo.director AS d ON m.movie_title = d.movie_title\r\n\r\n",
            "metadata": {},
            "outputs": [
                {
                    "output_type": "error",
                    "evalue": "Msg 2714, Level 16, State 3, Procedure vw_movie_director, Line 2\r\nThere is already an object named 'vw_movie_director' in the database.",
                    "ename": "",
                    "traceback": []
                },
                {
                    "output_type": "display_data",
                    "data": {
                        "text/html": "Total execution time: 00:00:00.646"
                    },
                    "metadata": {}
                }
            ],
            "execution_count": 2
        }
    ]
}